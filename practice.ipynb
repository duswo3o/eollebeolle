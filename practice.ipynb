{
 "cells": [
  {
   "cell_type": "code",
   "execution_count": 28,
   "metadata": {},
   "outputs": [
    {
     "name": "stdout",
     "output_type": "stream",
     "text": [
      "▶ 유저이름: Many\n",
      "▶ 유저ID: lim10010\n",
      "▶ 유저이름: Tony\n",
      "▶ 유저ID: Ton20020\n",
      "▶ 유저이름: Kona\n",
      "▶ 유저ID: Kon30030\n",
      "<제목: Many's word>\n",
      "냉정과 열정 사이 by lim10010\n",
      "<제목: Tony's word>\n",
      "점프 투 파이썬 by Ton20020\n",
      "<제목: Kona's word>\n",
      "점심 메뉴를 고민중입니다 by Kon30030\n"
     ]
    }
   ],
   "source": [
    "members = []\n",
    "posts = []\n",
    "\n",
    "class Member() :\n",
    "    def __init__(self,name,username,password):\n",
    "        \n",
    "        self.name = name\n",
    "        self.username = username\n",
    "        self.password = password\n",
    "        \n",
    "    def display(self):\n",
    "        print(f\"▶ 유저이름: {self.name}\")\n",
    "        print(f\"▶ 유저ID: {self.username}\")\n",
    "        \n",
    "\n",
    "Many = Member(\"Many\",\"lim10010\",\"qwe123\")\n",
    "Tony = Member(\"Tony\",\"Ton20020\",\"qwe456\")\n",
    "Kona = Member(\"Kona\",\"Kon30030\",\"qwe789\")\n",
    "\n",
    "members.append(Many)\n",
    "members.append(Tony)\n",
    "members.append(Kona)\n",
    "\n",
    "\n",
    "for i in members:\n",
    "    i.display()\n",
    "\n",
    "\n",
    "\n",
    "class Post() : \n",
    "    def __init__(self,title,content,Member):\n",
    "        \n",
    "        self.title = title\n",
    "        self.content = content\n",
    "        self.username = Member.username\n",
    "        \n",
    "    def display_post(self):\n",
    "        print(f\"<제목: {self.title}>\")\n",
    "        print(f\"{self.content} by {self.username}\")\n",
    "\n",
    "\n",
    "Many_post = Post(\"Many's word\", \"냉정과 열정 사이\", Many)\n",
    "Tony_post = Post(\"Tony's word\", \"점프 투 파이썬\", Tony)\n",
    "Kona_post = Post(\"Kona's word\", \"점심 메뉴를 고민중입니다\", Kona)\n",
    "\n",
    "posts.append(Many_post)\n",
    "posts.append(Tony_post)\n",
    "posts.append(Kona_post)\n",
    "\n",
    "for y in posts:\n",
    "    y.display_post()\n",
    "\n",
    "\n",
    "#Many.display()\n",
    "#Many_post.display_post()\n",
    "\n",
    "\n",
    "\n"
   ]
  },
  {
   "cell_type": "code",
   "execution_count": 21,
   "metadata": {},
   "outputs": [
    {
     "name": "stdout",
     "output_type": "stream",
     "text": [
      "['하나둘셋']\n"
     ]
    }
   ],
   "source": [
    "members = []\n",
    "\n",
    "a = \"하나둘셋\"\n",
    "\n",
    "members.append(a)\n",
    "\n",
    "print(members)\n",
    "\n"
   ]
  }
 ],
 "metadata": {
  "kernelspec": {
   "display_name": ".venv",
   "language": "python",
   "name": "python3"
  },
  "language_info": {
   "codemirror_mode": {
    "name": "ipython",
    "version": 3
   },
   "file_extension": ".py",
   "mimetype": "text/x-python",
   "name": "python",
   "nbconvert_exporter": "python",
   "pygments_lexer": "ipython3",
   "version": "3.12.2"
  }
 },
 "nbformat": 4,
 "nbformat_minor": 2
}
