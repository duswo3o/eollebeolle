{
 "cells": [
  {
   "cell_type": "code",
   "execution_count": 7,
   "metadata": {},
   "outputs": [
    {
     "name": "stdout",
     "output_type": "stream",
     "text": [
      "Many\n"
     ]
    },
    {
     "data": {
      "text/plain": [
       "'Many'"
      ]
     },
     "metadata": {},
     "output_type": "display_data"
    },
    {
     "data": {
      "text/plain": [
       "'lim10010'"
      ]
     },
     "metadata": {},
     "output_type": "display_data"
    },
    {
     "name": "stdout",
     "output_type": "stream",
     "text": [
      "None\n"
     ]
    }
   ],
   "source": [
    "class Members :\n",
    "    def __init__(self,name,username,password):\n",
    "        \n",
    "        self.name = name\n",
    "        self.username = username\n",
    "        self.password = password\n",
    "        \n",
    "    def display(name, username):\n",
    "        \n",
    "        print(name)\n",
    "        print(username)\n",
    "        \n",
    "        return name, username\n",
    "\n",
    "a = Members(\"Many\",\"lim10010\",\"qwe123\")\n",
    "print(a.name)\n",
    "\n",
    "b = display(a.name, a.username)\n",
    "print(b)\n",
    "\n",
    "\n",
    "\n",
    "class Post : \n",
    "    def __init__(self,title,content,username):\n",
    "        \n",
    "        self.title = title\n",
    "        self.content = content\n",
    "        self.username = username"
   ]
  }
 ],
 "metadata": {
  "kernelspec": {
   "display_name": ".venv",
   "language": "python",
   "name": "python3"
  },
  "language_info": {
   "codemirror_mode": {
    "name": "ipython",
    "version": 3
   },
   "file_extension": ".py",
   "mimetype": "text/x-python",
   "name": "python",
   "nbconvert_exporter": "python",
   "pygments_lexer": "ipython3",
   "version": "3.12.4"
  }
 },
 "nbformat": 4,
 "nbformat_minor": 2
}
