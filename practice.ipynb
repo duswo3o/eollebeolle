{
 "cells": [
  {
   "cell_type": "code",
   "execution_count": 28,
   "metadata": {},
   "outputs": [
    {
     "name": "stdout",
     "output_type": "stream",
     "text": [
      "▶ 유저이름: Many\n",
      "▶ 유저ID: lim10010\n",
      "▶ 유저이름: Tony\n",
      "▶ 유저ID: Ton20020\n",
      "▶ 유저이름: Kona\n",
      "▶ 유저ID: Kon30030\n",
      "<제목: Many's word>\n",
      "냉정과 열정 사이 by lim10010\n",
      "<제목: Tony's word>\n",
      "점프 투 파이썬 by Ton20020\n",
      "<제목: Kona's word>\n",
      "점심 메뉴를 고민중입니다 by Kon30030\n"
     ]
    }
   ],
   "source": [
    "members = []\n",
    "posts = []\n",
    "\n",
    "class Member() :\n",
    "    \n",
    "    def __init__(self,name,username,password):\n",
    "        self.name = name\n",
    "        self.username = username\n",
    "        self.password = password\n",
    "        \n",
    "    def display(self):\n",
    "        print(f\"▶ 유저이름: {self.name}\")\n",
    "        print(f\"▶ 유저ID: {self.username}\")\n",
    "        \n",
    "\n",
    "def info_set():\n",
    "    a = str(input(\"이름을 적으시오 : \"))\n",
    "    b = str(input(\"원하는 아이디 입력하시오 : \"))\n",
    "    c = str(input(\"원하는 비밀번호를 만드시오 : \"))\n",
    "    \n",
    "    return Member(a,b,c)\n",
    "\n",
    "\n",
    "##### 회원가입 실행 #####\n",
    "while True:\n",
    "    sign_in = str(input(\"계정을 생성하시겠습니까?(Y/N) : \")).lower()\n",
    "    if sign_in == 'y':\n",
    "        user_sign = info_set()\n",
    "        members.append(user_sign)\n",
    "    else:\n",
    "        print(\"회원가입을 종료합니다\")\n",
    "        break\n",
    "\n",
    "\n",
    "\n",
    "\n",
    "\n",
    "\n",
    "\n",
    "class Post() : \n",
    "    def __init__(self,title,content,Member):\n",
    "        \n",
    "        self.title = title\n",
    "        self.content = content\n",
    "        self.username = Member.username\n",
    "        \n",
    "    def display_post(self):\n",
    "        print(f\"<제목: {self.title}>\")\n",
    "        print(f\"{self.content} by {self.username}\")\n",
    "\n",
    "\n",
    "Many_post = Post(\"Many's word\", \"냉정과 열정 사이\", Many)\n",
    "Tony_post = Post(\"Tony's word\", \"점프 투 파이썬\", Tony)\n",
    "Kona_post = Post(\"Kona's word\", \"점심 메뉴를 고민중입니다\", Kona)\n",
    "\n",
    "posts.append(Many_post)\n",
    "posts.append(Tony_post)\n",
    "posts.append(Kona_post)\n",
    "\n",
    "for y in posts:\n",
    "    y.display_post()\n",
    "\n",
    "\n",
    "#Many.display()\n",
    "#Many_post.display_post()\n",
    "\n",
    "\n",
    "\n"
   ]
  },
  {
   "cell_type": "code",
   "execution_count": 45,
   "metadata": {},
   "outputs": [
    {
     "name": "stdout",
     "output_type": "stream",
     "text": [
      "회원가입을 종료합니다\n",
      "▶ 유저이름: A\n",
      "▶ 유저ID: aaaaa\n",
      "▶ 유저이름: B\n",
      "▶ 유저ID: bbbbb\n",
      "▶ 유저이름: C\n",
      "▶ 유저ID: ccccc\n",
      "▶ 유저이름: D\n",
      "▶ 유저ID: ddddd\n"
     ]
    }
   ],
   "source": [
    "members = []\n",
    "\n",
    "class Member() :\n",
    "    \n",
    "    def __init__(self,name,username,password):\n",
    "        self.name = name\n",
    "        self.username = username\n",
    "        self.password = password\n",
    "        \n",
    "    def display(self):\n",
    "        print(f\"▶ 유저이름: {self.name}\")\n",
    "        print(f\"   유저ID: {self.username}\")\n",
    "        \n",
    "\n",
    "def info_set():\n",
    "    a = str(input(\"이름을 적으시오 : \"))\n",
    "    b = str(input(\"원하는 아이디 입력하시오 : \"))\n",
    "    c = str(input(\"원하는 비밀번호를 만드시오 : \"))\n",
    "    \n",
    "    return Member(a,b,c)\n",
    "\n",
    "\n",
    "##### 회원가입 실행 #####\n",
    "while True:\n",
    "    sign_in = str(input(\"계정을 생성하시겠습니까?(Y/N) : \")).lower()\n",
    "    if sign_in == 'y':\n",
    "        user_sign = info_set()\n",
    "        members.append(user_sign)\n",
    "    else:\n",
    "        print(\"회원가입을 종료합니다\")\n",
    "        break\n",
    "\n",
    "print(\"-----현재까지 가입된 멤버의 정보입니다-----\")\n",
    "for member in members:\n",
    "    member.display()\n",
    "\n",
    "\n",
    "# user_1 = info_set()\n",
    "# user_2 = info_set()\n",
    "# user_3 = info_set()\n",
    "\n",
    "# members.append(user_1)\n",
    "# members.append(user_2)\n",
    "# members.append(user_3)\n",
    "\n"
   ]
  },
  {
   "cell_type": "code",
   "execution_count": 48,
   "metadata": {},
   "outputs": [
    {
     "name": "stdout",
     "output_type": "stream",
     "text": [
      "['123', '456', '789']\n"
     ]
    }
   ],
   "source": [
    "many = \"123\"\n",
    "tony = \"456\"\n",
    "kona = \"789\"\n",
    "\n",
    "members = [many, tony, kona]\n",
    "\n",
    "print(members)"
   ]
  }
 ],
 "metadata": {
  "kernelspec": {
   "display_name": ".venv",
   "language": "python",
   "name": "python3"
  },
  "language_info": {
   "codemirror_mode": {
    "name": "ipython",
    "version": 3
   },
   "file_extension": ".py",
   "mimetype": "text/x-python",
   "name": "python",
   "nbconvert_exporter": "python",
   "pygments_lexer": "ipython3",
   "version": "3.12.2"
  }
 },
 "nbformat": 4,
 "nbformat_minor": 2
}
